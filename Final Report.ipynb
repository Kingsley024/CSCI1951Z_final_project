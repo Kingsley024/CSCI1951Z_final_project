{
 "cells": [
  {
   "cell_type": "code",
   "execution_count": 1,
   "id": "883eaeb2",
   "metadata": {},
   "outputs": [],
   "source": [
    "import itertools\n",
    "import pandas as pd\n",
    "import numpy as np\n",
    "\n",
    "def create_applicant(counter, school, gpa, degree, location, gender, vs, wa, dis, race):\n",
    "    return {\n",
    "        'Applicant ID': counter,\n",
    "        'School Name': school,\n",
    "        'GPA': gpa,\n",
    "        'Degree': degree,\n",
    "        'Location': location,\n",
    "        'Gender': gender,\n",
    "        'Veteran status': vs,\n",
    "        'Work authorization': wa,\n",
    "        'Disability': dis,\n",
    "        'Ethnicity': race,\n",
    "        'Role 1': 'N/A',\n",
    "        'Start 1': 'N/A',\n",
    "        'End 1': 'N/A',\n",
    "        'Role 2': 'N/A',\n",
    "        'Start 2': 'N/A',\n",
    "        'End 2': 'N/A',\n",
    "        'Role 3': 'N/A',\n",
    "        'Start 3': 'N/A',\n",
    "        'End 3': 'N/A'\n",
    "    }\n",
    "\n",
    "def generate_applicants():\n",
    "    schools = ['State Providence College', 'Providence State University', 'Providence School', 'Providence University']\n",
    "    locations = ['Miami', 'Chicago', 'Boston', 'Providence']\n",
    "    degrees = ['Phd', 'Bachelors', 'Masters']\n",
    "    genders = ['M', 'F']\n",
    "    gpa_increments = [2.00 + i * 0.2 for i in range(11)]\n",
    "    applicant_list = []\n",
    "    counter = 1\n",
    "\n",
    "    attributes = list(itertools.product(\n",
    "        gpa_increments, schools, [0], [0], locations, degrees, [0, 1], [0, 1], genders\n",
    "    ))\n",
    "\n",
    "    for gpa, school, vs, wa, location, degree, race, dis, gender, in attributes:\n",
    "        applicant = create_applicant(counter, school, gpa, degree, location, gender, vs, wa, dis, race)\n",
    "        applicant_list.append(applicant)\n",
    "        counter += 1\n",
    "\n",
    "    return applicant_list\n"
   ]
  },
  {
   "cell_type": "code",
   "execution_count": 2,
   "id": "b3510c79",
   "metadata": {},
   "outputs": [],
   "source": [
    "#generate applicant pool and save to a csv file\n",
    "applicants = generate_applicants()\n",
    "applicants = pd.DataFrame(applicants)\n",
    "applicants.to_csv('applicants.csv',index = False)"
   ]
  },
  {
   "cell_type": "markdown",
   "id": "311eaf2e",
   "metadata": {},
   "source": [
    "## We then submit this csv to the resume scorer API"
   ]
  },
  {
   "cell_type": "code",
   "execution_count": 3,
   "id": "3b23b4e3",
   "metadata": {},
   "outputs": [],
   "source": [
    "#read the result of resume scorer\n",
    "resume_score_result = pd.read_csv('resume_score_result.csv')\n",
    "applicants['Resume score'] = resume_score_result['score']\n",
    "applicants.to_csv('candidates.csv',index = False)"
   ]
  },
  {
   "cell_type": "markdown",
   "id": "987a9135",
   "metadata": {},
   "source": [
    "## We then submit this csv to the candidate prediction API"
   ]
  },
  {
   "cell_type": "code",
   "execution_count": 4,
   "id": "ca70340a",
   "metadata": {},
   "outputs": [],
   "source": [
    "#read the result of resume scorer\n",
    "candidate_prediction_result = pd.read_csv('candidate_eval_result.csv')\n",
    "candidates = applicants.copy()\n",
    "candidates['prediction'] = candidate_prediction_result['prediction']"
   ]
  },
  {
   "cell_type": "code",
   "execution_count": 5,
   "id": "c9c7287a",
   "metadata": {},
   "outputs": [],
   "source": [
    "#define evaluation metrics\n",
    "def spd(sensitive_attribute, dataset, predicted_labels, majority_class, minority_class):\n",
    "    \"\"\"\n",
    "    Calculate the Statistical Parity Difference (SPD) between majority and minority classes based on predicted labels.\n",
    "\n",
    "    Parameters:\n",
    "    - sensitive_attribute (str): Name of the column representing the sensitive attribute.\n",
    "    - dataset (pd.DataFrame): The dataset containing the sensitive attribute and true outcome variable.\n",
    "    - predicted_labels (pd.Series): Predicted labels for the outcome variable.\n",
    "    - majority_class: Value representing the majority class in the sensitive attribute.\n",
    "    - minority_class: Value representing the minority class in the sensitive attribute.\n",
    "\n",
    "    Returns:\n",
    "    - spd (float): Statistical Parity Difference between majority and minority classes.\n",
    "    \"\"\"\n",
    "    spd_val = np.mean(predicted_labels[sensitive_attribute == minority_class]) - np.mean(predicted_labels[sensitive_attribute == majority_class])\n",
    "    return spd_val\n",
    "\n",
    "def di(sensitive_attribute, dataset, predicted_labels, majority_class, minority_class):\n",
    "    \"\"\"\n",
    "    Calculate the Disparate Impact (DI) between majority and minority classes based on predicted labels.\n",
    "\n",
    "    Parameters:\n",
    "    - sensitive_attribute (str): Name of the column representing the sensitive attribute.\n",
    "    - dataset (pd.DataFrame): The dataset containing the sensitive attribute and true outcome variable.\n",
    "    - predicted_labels (pd.Series): Predicted labels for the outcome variable.\n",
    "    - majority_class: Value representing the majority class in the sensitive attribute.\n",
    "    - minority_class: Value representing the minority class in the sensitive attribute.\n",
    "\n",
    "    Returns:\n",
    "    - di (float): Disparate Impact between majority and minority classes.\n",
    "    \"\"\"\n",
    "    di_val = np.mean(predicted_labels[sensitive_attribute == minority_class]) / np.mean(predicted_labels[sensitive_attribute == majority_class])\n",
    "    return di_val"
   ]
  },
  {
   "cell_type": "code",
   "execution_count": 6,
   "id": "20c7676c",
   "metadata": {},
   "outputs": [],
   "source": [
    "#calculate the evaluation metrics for the resume scorer model on gender\n",
    "rs_spd_gender = spd(applicants['Gender'],applicants,applicants['Resume score'],'M','F')\n",
    "rs_di_gender = di(applicants['Gender'],applicants,applicants['Resume score'],'M','F')\n",
    "#calculate the evaluation metrics for the resume scorer model on disability\n",
    "rs_spd_race = spd(applicants['Disability'],applicants,applicants['Resume score'],0,1)\n",
    "rs_di_race = di(applicants['Disability'],applicants,applicants['Resume score'],0,1)"
   ]
  },
  {
   "cell_type": "code",
   "execution_count": 7,
   "id": "e57ca5bb",
   "metadata": {},
   "outputs": [
    {
     "name": "stdout",
     "output_type": "stream",
     "text": [
      "The statistical parity difference on gender for the resume scorer model is 0.15704071969696898\n",
      "The disparate impact on gender for the resume scorer model is 1.0320354440454274\n",
      "The statistical parity difference on disability for the resume scorer model is 0.09684185606060591\n",
      "The disparate impact on disability for the resume scorer model is 1.0196346475257734\n"
     ]
    }
   ],
   "source": [
    "print(f'The statistical parity difference on gender for the resume scorer model is {rs_spd_gender}')\n",
    "print(f'The disparate impact on gender for the resume scorer model is {rs_di_gender}')\n",
    "print(f'The statistical parity difference on disability for the resume scorer model is {rs_spd_race}')\n",
    "print(f'The disparate impact on disability for the resume scorer model is {rs_di_race}')"
   ]
  },
  {
   "cell_type": "code",
   "execution_count": 8,
   "id": "45c2c304",
   "metadata": {},
   "outputs": [],
   "source": [
    "#calculate the evaluation metrics for the candidates evaluation model on gender\n",
    "ce_spd_gender = spd(candidates['Gender'],candidates,candidates['prediction'],'M','F')\n",
    "ce_di_gender = di(candidates['Gender'],candidates,candidates['prediction'],'M','F')\n",
    "#calculate the evaluation metrics for the candidates evaluation model on disability\n",
    "ce_spd_race = spd(candidates['Disability'],candidates,candidates['prediction'],0,1)\n",
    "ce_di_race = di(candidates['Disability'],candidates,candidates['prediction'],0,1)"
   ]
  },
  {
   "cell_type": "code",
   "execution_count": 9,
   "id": "43b3892e",
   "metadata": {},
   "outputs": [
    {
     "name": "stdout",
     "output_type": "stream",
     "text": [
      "The statistical parity difference on gender for the candidates evaluation model is -0.2277462121212121\n",
      "The disparate impact on gender for the candidates evaluation model is 0.6179507545671168\n",
      "The statistical parity difference on disability for the candidates evaluation model is -0.007102272727272707\n",
      "The disparate impact on disability for the candidates evaluation model is 0.9853801169590644\n"
     ]
    }
   ],
   "source": [
    "print(f'The statistical parity difference on gender for the candidates evaluation model is {ce_spd_gender}')\n",
    "print(f'The disparate impact on gender for the candidates evaluation model is {ce_di_gender}')\n",
    "print(f'The statistical parity difference on disability for the candidates evaluation model is {ce_spd_race}')\n",
    "print(f'The disparate impact on disability for the candidates evaluation model is {ce_di_race}')"
   ]
  }
 ],
 "metadata": {
  "kernelspec": {
   "display_name": "Python 3 (ipykernel)",
   "language": "python",
   "name": "python3"
  },
  "language_info": {
   "codemirror_mode": {
    "name": "ipython",
    "version": 3
   },
   "file_extension": ".py",
   "mimetype": "text/x-python",
   "name": "python",
   "nbconvert_exporter": "python",
   "pygments_lexer": "ipython3",
   "version": "3.8.13"
  }
 },
 "nbformat": 4,
 "nbformat_minor": 5
}
